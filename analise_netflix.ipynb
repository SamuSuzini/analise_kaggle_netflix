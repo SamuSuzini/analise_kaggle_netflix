{
 "cells": [
  {
   "cell_type": "markdown",
   "id": "8523c42b",
   "metadata": {},
   "source": [
    "# Análise de Dados - Netflix\n",
    "\n",
    "Para esse Business Case, vamos utilizar uma base de dados disponibilizada pela Netflix.\n",
    "\n",
    "Sua tarefa é utilizar os conhecimentos adquiridos até agora para responder as perguntas abaixo.\n",
    "\n",
    "O arquivo da base de dados está dispnível para download e também no site Kaggle.\n",
    "\n",
    "[Link da base de dados - Kaggle](https://www.kaggle.com/datasets/shivamb/netflix-shows)"
   ]
  },
  {
   "cell_type": "markdown",
   "id": "7f987966",
   "metadata": {},
   "source": [
    "# Carregamento e tratamento dos dados"
   ]
  },
  {
   "cell_type": "code",
   "execution_count": 1,
   "id": "104b224c",
   "metadata": {},
   "outputs": [],
   "source": [
    "import pandas as pd\n",
    "import numpy as np\n",
    "import matplotlib.pyplot as plt\n",
    "import seaborn as sns"
   ]
  },
  {
   "cell_type": "code",
   "execution_count": 2,
   "id": "504d2fe0",
   "metadata": {},
   "outputs": [],
   "source": [
    "df = pd.read_csv(\"netflix.csv\", converters={'date_added' : str.strip}, parse_dates=[\"date_added\"])\n"
   ]
  },
  {
   "cell_type": "code",
   "execution_count": 3,
   "id": "7328dcd6",
   "metadata": {},
   "outputs": [
    {
     "name": "stdout",
     "output_type": "stream",
     "text": [
      "<class 'pandas.core.frame.DataFrame'>\n",
      "RangeIndex: 8807 entries, 0 to 8806\n",
      "Data columns (total 12 columns):\n",
      " #   Column        Non-Null Count  Dtype         \n",
      "---  ------        --------------  -----         \n",
      " 0   show_id       8807 non-null   object        \n",
      " 1   type          8807 non-null   object        \n",
      " 2   title         8807 non-null   object        \n",
      " 3   director      6173 non-null   object        \n",
      " 4   cast          7982 non-null   object        \n",
      " 5   country       7976 non-null   object        \n",
      " 6   date_added    8797 non-null   datetime64[ns]\n",
      " 7   release_year  8807 non-null   int64         \n",
      " 8   rating        8803 non-null   object        \n",
      " 9   duration      8804 non-null   object        \n",
      " 10  listed_in     8807 non-null   object        \n",
      " 11  description   8807 non-null   object        \n",
      "dtypes: datetime64[ns](1), int64(1), object(10)\n",
      "memory usage: 825.8+ KB\n"
     ]
    }
   ],
   "source": [
    "df.info()"
   ]
  },
  {
   "cell_type": "code",
   "execution_count": 4,
   "id": "5bad0a50",
   "metadata": {},
   "outputs": [],
   "source": [
    "df_tratado = df.copy()"
   ]
  },
  {
   "cell_type": "code",
   "execution_count": 5,
   "id": "9a10a456",
   "metadata": {},
   "outputs": [],
   "source": [
    "df_tratado.columns = ['show_id', 'tipo', 'titulo', 'diretor', 'elenco', 'pais', 'dt_add',\n",
    "       'ano_lancamento', 'classificacao', 'duracao', 'listed_in', 'description']"
   ]
  },
  {
   "cell_type": "markdown",
   "id": "4e3e772d",
   "metadata": {},
   "source": [
    "## 1 - Quantos registros e quantas colunas existem no dataset?"
   ]
  },
  {
   "cell_type": "code",
   "execution_count": 6,
   "id": "f806b50c",
   "metadata": {},
   "outputs": [
    {
     "name": "stdout",
     "output_type": "stream",
     "text": [
      "Total de linhas 8807.\n",
      "Total de colunas 12.\n"
     ]
    }
   ],
   "source": [
    "linhas, colunas = df_tratado.shape\n",
    "print(f'Total de linhas {linhas}.')\n",
    "print(f'Total de colunas {colunas}.')"
   ]
  },
  {
   "cell_type": "markdown",
   "id": "da12708f",
   "metadata": {},
   "source": [
    "## 2- Existem colunas com valores ausentes? Quais?\n",
    "diretor, elenco, pais, dt_add, classificacao e duracao"
   ]
  },
  {
   "cell_type": "code",
   "execution_count": 7,
   "id": "607b52f3",
   "metadata": {},
   "outputs": [
    {
     "data": {
      "text/plain": [
       "show_id              0\n",
       "tipo                 0\n",
       "titulo               0\n",
       "diretor           2634\n",
       "elenco             825\n",
       "pais               831\n",
       "dt_add              10\n",
       "ano_lancamento       0\n",
       "classificacao        4\n",
       "duracao              3\n",
       "listed_in            0\n",
       "description          0\n",
       "dtype: int64"
      ]
     },
     "execution_count": 7,
     "metadata": {},
     "output_type": "execute_result"
    }
   ],
   "source": [
    "df_tratado.isnull().sum()"
   ]
  },
  {
   "cell_type": "code",
   "execution_count": 8,
   "id": "7565e57b",
   "metadata": {},
   "outputs": [
    {
     "data": {
      "text/plain": [
       "show_id            0.000000\n",
       "tipo               0.000000\n",
       "titulo             0.000000\n",
       "diretor           29.908028\n",
       "elenco             9.367549\n",
       "pais               9.435676\n",
       "dt_add             0.113546\n",
       "ano_lancamento     0.000000\n",
       "classificacao      0.045418\n",
       "duracao            0.034064\n",
       "listed_in          0.000000\n",
       "description        0.000000\n",
       "dtype: float64"
      ]
     },
     "execution_count": 8,
     "metadata": {},
     "output_type": "execute_result"
    }
   ],
   "source": [
    "df_tratado.isnull().sum() / linhas * 100"
   ]
  },
  {
   "cell_type": "markdown",
   "id": "09e84fb4",
   "metadata": {},
   "source": [
    "## 3 - Quantas séries (TV Show) e quantos filmes (Movie) estão disponíveis?"
   ]
  },
  {
   "cell_type": "code",
   "execution_count": 9,
   "id": "5c943fa5",
   "metadata": {},
   "outputs": [
    {
     "data": {
      "text/plain": [
       "tipo\n",
       "Movie      6131\n",
       "TV Show    2676\n",
       "Name: count, dtype: int64"
      ]
     },
     "execution_count": 9,
     "metadata": {},
     "output_type": "execute_result"
    }
   ],
   "source": [
    "df_tratado.tipo.value_counts()"
   ]
  },
  {
   "cell_type": "code",
   "execution_count": 10,
   "id": "61615e8c",
   "metadata": {},
   "outputs": [
    {
     "data": {
      "text/plain": [
       "tipo\n",
       "Movie      69.615079\n",
       "TV Show    30.384921\n",
       "Name: proportion, dtype: float64"
      ]
     },
     "execution_count": 10,
     "metadata": {},
     "output_type": "execute_result"
    }
   ],
   "source": [
    "df_tratado.tipo.value_counts(normalize=True) * 100"
   ]
  },
  {
   "cell_type": "code",
   "execution_count": 11,
   "id": "3cb469e0",
   "metadata": {},
   "outputs": [
    {
     "data": {
      "image/png": "[encoded data removed]",
      "text/plain": [
       "<Figure size 640x480 with 1 Axes>"
      ]
     },
     "metadata": {},
     "output_type": "display_data"
    }
   ],
   "source": [
    "df_tratado.tipo.value_counts().plot(kind='pie',title='Tipo dos Títulos', autopct='%1.1f%%');"
   ]
  },
  {
   "cell_type": "markdown",
   "id": "eb8ad9e9",
   "metadata": {},
   "source": [
    "## 4 - Quantos registros no dataset estão sem o país especificado? Liste os seus tipos (filme ou série de tv) e quantidades."
   ]
  },
  {
   "cell_type": "code",
   "execution_count": 12,
   "id": "62c71861",
   "metadata": {},
   "outputs": [],
   "source": [
    "df_semn_pais= df_tratado.loc[df_tratado['pais'].isnull()]"
   ]
  },
  {
   "cell_type": "code",
   "execution_count": 13,
   "id": "e7850e4b",
   "metadata": {},
   "outputs": [
    {
     "data": {
      "text/plain": [
       "tipo\n",
       "Movie      440\n",
       "TV Show    391\n",
       "Name: count, dtype: int64"
      ]
     },
     "execution_count": 13,
     "metadata": {},
     "output_type": "execute_result"
    }
   ],
   "source": [
    "df_semn_pais['tipo'].value_counts()"
   ]
  },
  {
   "cell_type": "code",
   "execution_count": 14,
   "id": "e6746522",
   "metadata": {},
   "outputs": [
    {
     "data": {
      "image/png": "[encoded data removed]",
      "text/plain": [
       "<Figure size 640x480 with 1 Axes>"
      ]
     },
     "metadata": {},
     "output_type": "display_data"
    }
   ],
   "source": [
    "df_semn_pais['tipo'].value_counts().plot(kind='bar');"
   ]
  },
  {
   "cell_type": "code",
   "execution_count": 15,
   "id": "24a2154c",
   "metadata": {},
   "outputs": [
    {
     "data": {
      "image/png": "[encoded data removed]",
      "text/plain": [
       "<Figure size 640x480 with 1 Axes>"
      ]
     },
     "metadata": {},
     "output_type": "display_data"
    }
   ],
   "source": [
    "sns.barplot(x=df_semn_pais['tipo'].value_counts().index, y=df_semn_pais['tipo'].value_counts().values);"
   ]
  },
  {
   "cell_type": "markdown",
   "id": "d508681e",
   "metadata": {},
   "source": [
    "## 5 - Qual a data do primeiro filme disponibilizado e qual o seu título e país?\n",
    "A data do primeiro filme disponibilizado em 01/01/2008. Seu título é: To and From New York. País de origem: USA"
   ]
  },
  {
   "cell_type": "code",
   "execution_count": 16,
   "id": "023706a5",
   "metadata": {},
   "outputs": [
    {
     "data": {
      "text/plain": [
       "Timestamp('2008-01-01 00:00:00')"
      ]
     },
     "execution_count": 16,
     "metadata": {},
     "output_type": "execute_result"
    }
   ],
   "source": [
    "df_movies = df_tratado.loc[df_tratado['tipo'] == 'Movie']\n",
    "df_movies['dt_add'].min()"
   ]
  },
  {
   "cell_type": "code",
   "execution_count": 17,
   "id": "7d53d779",
   "metadata": {},
   "outputs": [
    {
     "data": {
      "text/html": [
       "<div>\n",
       "<style scoped>\n",
       "    .dataframe tbody tr th:only-of-type {\n",
       "        vertical-align: middle;\n",
       "    }\n",
       "\n",
       "    .dataframe tbody tr th {\n",
       "        vertical-align: top;\n",
       "    }\n",
       "\n",
       "    .dataframe thead th {\n",
       "        text-align: right;\n",
       "    }\n",
       "</style>\n",
       "<table border=\"1\" class=\"dataframe\">\n",
       "  <thead>\n",
       "    <tr style=\"text-align: right;\">\n",
       "      <th></th>\n",
       "      <th>show_id</th>\n",
       "      <th>tipo</th>\n",
       "      <th>titulo</th>\n",
       "      <th>diretor</th>\n",
       "      <th>elenco</th>\n",
       "      <th>pais</th>\n",
       "      <th>dt_add</th>\n",
       "      <th>ano_lancamento</th>\n",
       "      <th>classificacao</th>\n",
       "      <th>duracao</th>\n",
       "      <th>listed_in</th>\n",
       "      <th>description</th>\n",
       "    </tr>\n",
       "  </thead>\n",
       "  <tbody>\n",
       "    <tr>\n",
       "      <th>5957</th>\n",
       "      <td>s5958</td>\n",
       "      <td>Movie</td>\n",
       "      <td>To and From New York</td>\n",
       "      <td>Sorin Dan Mihalcescu</td>\n",
       "      <td>Barbara King, Shaana Diya, John Krisiukenas, Y...</td>\n",
       "      <td>United States</td>\n",
       "      <td>2008-01-01</td>\n",
       "      <td>2006</td>\n",
       "      <td>TV-MA</td>\n",
       "      <td>81 min</td>\n",
       "      <td>Dramas, Independent Movies, Thrillers</td>\n",
       "      <td>While covering a story in New York City, a Sea...</td>\n",
       "    </tr>\n",
       "  </tbody>\n",
       "</table>\n",
       "</div>"
      ],
      "text/plain": [
       "     show_id   tipo                titulo               diretor  \\\n",
       "5957   s5958  Movie  To and From New York  Sorin Dan Mihalcescu   \n",
       "\n",
       "                                                 elenco           pais  \\\n",
       "5957  Barbara King, Shaana Diya, John Krisiukenas, Y...  United States   \n",
       "\n",
       "         dt_add  ano_lancamento classificacao duracao  \\\n",
       "5957 2008-01-01            2006         TV-MA  81 min   \n",
       "\n",
       "                                  listed_in  \\\n",
       "5957  Dramas, Independent Movies, Thrillers   \n",
       "\n",
       "                                            description  \n",
       "5957  While covering a story in New York City, a Sea...  "
      ]
     },
     "execution_count": 17,
     "metadata": {},
     "output_type": "execute_result"
    }
   ],
   "source": [
    "filtro = df_movies['dt_add'] == df_movies['dt_add'].min()\n",
    "df_movies[filtro]"
   ]
  },
  {
   "cell_type": "markdown",
   "id": "f5ca590f",
   "metadata": {},
   "source": [
    "## 6 - Qual o diretor com maior número de títulos (filme ou série)? Qual o seu país?"
   ]
  },
  {
   "cell_type": "code",
   "execution_count": 18,
   "id": "09f52b78",
   "metadata": {},
   "outputs": [
    {
     "data": {
      "text/html": [
       "<div>\n",
       "<style scoped>\n",
       "    .dataframe tbody tr th:only-of-type {\n",
       "        vertical-align: middle;\n",
       "    }\n",
       "\n",
       "    .dataframe tbody tr th {\n",
       "        vertical-align: top;\n",
       "    }\n",
       "\n",
       "    .dataframe thead th {\n",
       "        text-align: right;\n",
       "    }\n",
       "</style>\n",
       "<table border=\"1\" class=\"dataframe\">\n",
       "  <thead>\n",
       "    <tr style=\"text-align: right;\">\n",
       "      <th></th>\n",
       "      <th>show_id</th>\n",
       "      <th>tipo</th>\n",
       "      <th>titulo</th>\n",
       "      <th>diretor</th>\n",
       "      <th>elenco</th>\n",
       "      <th>pais</th>\n",
       "      <th>dt_add</th>\n",
       "      <th>ano_lancamento</th>\n",
       "      <th>classificacao</th>\n",
       "      <th>duracao</th>\n",
       "      <th>listed_in</th>\n",
       "      <th>description</th>\n",
       "    </tr>\n",
       "  </thead>\n",
       "  <tbody>\n",
       "    <tr>\n",
       "      <th>0</th>\n",
       "      <td>s1</td>\n",
       "      <td>Movie</td>\n",
       "      <td>Dick Johnson Is Dead</td>\n",
       "      <td>Kirsten Johnson</td>\n",
       "      <td>NaN</td>\n",
       "      <td>United States</td>\n",
       "      <td>2021-09-25</td>\n",
       "      <td>2020</td>\n",
       "      <td>PG-13</td>\n",
       "      <td>90 min</td>\n",
       "      <td>Documentaries</td>\n",
       "      <td>As her father nears the end of his life, filmm...</td>\n",
       "    </tr>\n",
       "    <tr>\n",
       "      <th>1</th>\n",
       "      <td>s2</td>\n",
       "      <td>TV Show</td>\n",
       "      <td>Blood &amp; Water</td>\n",
       "      <td>NaN</td>\n",
       "      <td>Ama Qamata, Khosi Ngema, Gail Mabalane, Thaban...</td>\n",
       "      <td>South Africa</td>\n",
       "      <td>2021-09-24</td>\n",
       "      <td>2021</td>\n",
       "      <td>TV-MA</td>\n",
       "      <td>2 Seasons</td>\n",
       "      <td>International TV Shows, TV Dramas, TV Mysteries</td>\n",
       "      <td>After crossing paths at a party, a Cape Town t...</td>\n",
       "    </tr>\n",
       "    <tr>\n",
       "      <th>2</th>\n",
       "      <td>s3</td>\n",
       "      <td>TV Show</td>\n",
       "      <td>Ganglands</td>\n",
       "      <td>Julien Leclercq</td>\n",
       "      <td>Sami Bouajila, Tracy Gotoas, Samuel Jouy, Nabi...</td>\n",
       "      <td>NaN</td>\n",
       "      <td>2021-09-24</td>\n",
       "      <td>2021</td>\n",
       "      <td>TV-MA</td>\n",
       "      <td>1 Season</td>\n",
       "      <td>Crime TV Shows, International TV Shows, TV Act...</td>\n",
       "      <td>To protect his family from a powerful drug lor...</td>\n",
       "    </tr>\n",
       "    <tr>\n",
       "      <th>3</th>\n",
       "      <td>s4</td>\n",
       "      <td>TV Show</td>\n",
       "      <td>Jailbirds New Orleans</td>\n",
       "      <td>NaN</td>\n",
       "      <td>NaN</td>\n",
       "      <td>NaN</td>\n",
       "      <td>2021-09-24</td>\n",
       "      <td>2021</td>\n",
       "      <td>TV-MA</td>\n",
       "      <td>1 Season</td>\n",
       "      <td>Docuseries, Reality TV</td>\n",
       "      <td>Feuds, flirtations and toilet talk go down amo...</td>\n",
       "    </tr>\n",
       "    <tr>\n",
       "      <th>4</th>\n",
       "      <td>s5</td>\n",
       "      <td>TV Show</td>\n",
       "      <td>Kota Factory</td>\n",
       "      <td>NaN</td>\n",
       "      <td>Mayur More, Jitendra Kumar, Ranjan Raj, Alam K...</td>\n",
       "      <td>India</td>\n",
       "      <td>2021-09-24</td>\n",
       "      <td>2021</td>\n",
       "      <td>TV-MA</td>\n",
       "      <td>2 Seasons</td>\n",
       "      <td>International TV Shows, Romantic TV Shows, TV ...</td>\n",
       "      <td>In a city of coaching centers known to train I...</td>\n",
       "    </tr>\n",
       "  </tbody>\n",
       "</table>\n",
       "</div>"
      ],
      "text/plain": [
       "  show_id     tipo                 titulo          diretor  \\\n",
       "0      s1    Movie   Dick Johnson Is Dead  Kirsten Johnson   \n",
       "1      s2  TV Show          Blood & Water              NaN   \n",
       "2      s3  TV Show              Ganglands  Julien Leclercq   \n",
       "3      s4  TV Show  Jailbirds New Orleans              NaN   \n",
       "4      s5  TV Show           Kota Factory              NaN   \n",
       "\n",
       "                                              elenco           pais  \\\n",
       "0                                                NaN  United States   \n",
       "1  Ama Qamata, Khosi Ngema, Gail Mabalane, Thaban...   South Africa   \n",
       "2  Sami Bouajila, Tracy Gotoas, Samuel Jouy, Nabi...            NaN   \n",
       "3                                                NaN            NaN   \n",
       "4  Mayur More, Jitendra Kumar, Ranjan Raj, Alam K...          India   \n",
       "\n",
       "      dt_add  ano_lancamento classificacao    duracao  \\\n",
       "0 2021-09-25            2020         PG-13     90 min   \n",
       "1 2021-09-24            2021         TV-MA  2 Seasons   \n",
       "2 2021-09-24            2021         TV-MA   1 Season   \n",
       "3 2021-09-24            2021         TV-MA   1 Season   \n",
       "4 2021-09-24            2021         TV-MA  2 Seasons   \n",
       "\n",
       "                                           listed_in  \\\n",
       "0                                      Documentaries   \n",
       "1    International TV Shows, TV Dramas, TV Mysteries   \n",
       "2  Crime TV Shows, International TV Shows, TV Act...   \n",
       "3                             Docuseries, Reality TV   \n",
       "4  International TV Shows, Romantic TV Shows, TV ...   \n",
       "\n",
       "                                         description  \n",
       "0  As her father nears the end of his life, filmm...  \n",
       "1  After crossing paths at a party, a Cape Town t...  \n",
       "2  To protect his family from a powerful drug lor...  \n",
       "3  Feuds, flirtations and toilet talk go down amo...  \n",
       "4  In a city of coaching centers known to train I...  "
      ]
     },
     "execution_count": 18,
     "metadata": {},
     "output_type": "execute_result"
    }
   ],
   "source": [
    "df_tratado.head()"
   ]
  },
  {
   "cell_type": "code",
   "execution_count": 19,
   "id": "5497000f",
   "metadata": {},
   "outputs": [
    {
     "data": {
      "text/plain": [
       "diretor\n",
       "Rajiv Chilaka                     19\n",
       "Raúl Campos, Jan Suter            18\n",
       "Marcus Raboy                      16\n",
       "Suhas Kadav                       16\n",
       "Jay Karas                         14\n",
       "                                  ..\n",
       "Raymie Muzquiz, Stu Livingston     1\n",
       "Joe Menendez                       1\n",
       "Eric Bross                         1\n",
       "Will Eisenberg                     1\n",
       "Mozez Singh                        1\n",
       "Name: count, Length: 4528, dtype: int64"
      ]
     },
     "execution_count": 19,
     "metadata": {},
     "output_type": "execute_result"
    }
   ],
   "source": [
    "df_tratado.diretor.value_counts()"
   ]
  },
  {
   "cell_type": "code",
   "execution_count": 20,
   "id": "0015e93d",
   "metadata": {},
   "outputs": [
    {
     "name": "stdout",
     "output_type": "stream",
     "text": [
      "O diretor com maior número de títulos é Rajiv Chilaka, com 19 títulos!\n",
      "O país do diretor é India!\n"
     ]
    }
   ],
   "source": [
    "pergunta6 = df_tratado.diretor.value_counts()\n",
    "max_name = pergunta6.idxmax()\n",
    "max_value = pergunta6.max()\n",
    "\n",
    "print(f\"O diretor com maior número de títulos é {max_name}, com {max_value} títulos!\")\n",
    "\n",
    "filtrodir = df_tratado['diretor'] == max_name\n",
    "pais_diretor = df_tratado[filtrodir]['pais'].dropna().unique()[0]\n",
    "\n",
    "print(f\"O país do diretor é {pais_diretor}!\")\n"
   ]
  },
  {
   "cell_type": "code",
   "execution_count": 21,
   "id": "25cb9ed1",
   "metadata": {},
   "outputs": [
    {
     "data": {
      "text/plain": [
       "'India'"
      ]
     },
     "metadata": {},
     "output_type": "display_data"
    }
   ],
   "source": [
    "display(pais_diretor)"
   ]
  },
  {
   "cell_type": "markdown",
   "id": "cd2e11b7",
   "metadata": {},
   "source": [
    "## 7 - Qual é o filme de maior duração? E o de menor duração?\n",
    "\n",
    "O filme de maior duração é: **The School of Mischief** e o de menor duração é o Silent!\n"
   ]
  },
  {
   "cell_type": "code",
   "execution_count": 22,
   "id": "a4784c99",
   "metadata": {},
   "outputs": [],
   "source": [
    "df_movie_tratado = df_tratado.query('tipo == \"Movie\"').copy()"
   ]
  },
  {
   "cell_type": "code",
   "execution_count": 23,
   "id": "f12a1dc1",
   "metadata": {},
   "outputs": [
    {
     "data": {
      "text/html": [
       "<div>\n",
       "<style scoped>\n",
       "    .dataframe tbody tr th:only-of-type {\n",
       "        vertical-align: middle;\n",
       "    }\n",
       "\n",
       "    .dataframe tbody tr th {\n",
       "        vertical-align: top;\n",
       "    }\n",
       "\n",
       "    .dataframe thead th {\n",
       "        text-align: right;\n",
       "    }\n",
       "</style>\n",
       "<table border=\"1\" class=\"dataframe\">\n",
       "  <thead>\n",
       "    <tr style=\"text-align: right;\">\n",
       "      <th></th>\n",
       "      <th>show_id</th>\n",
       "      <th>tipo</th>\n",
       "      <th>titulo</th>\n",
       "      <th>diretor</th>\n",
       "      <th>elenco</th>\n",
       "      <th>pais</th>\n",
       "      <th>dt_add</th>\n",
       "      <th>ano_lancamento</th>\n",
       "      <th>classificacao</th>\n",
       "      <th>duracao</th>\n",
       "      <th>listed_in</th>\n",
       "      <th>description</th>\n",
       "    </tr>\n",
       "  </thead>\n",
       "  <tbody>\n",
       "    <tr>\n",
       "      <th>5541</th>\n",
       "      <td>s5542</td>\n",
       "      <td>Movie</td>\n",
       "      <td>Louis C.K. 2017</td>\n",
       "      <td>Louis C.K.</td>\n",
       "      <td>Louis C.K.</td>\n",
       "      <td>United States</td>\n",
       "      <td>2017-04-04</td>\n",
       "      <td>2017</td>\n",
       "      <td>74 min</td>\n",
       "      <td>NaN</td>\n",
       "      <td>Movies</td>\n",
       "      <td>Louis C.K. muses on religion, eternal love, gi...</td>\n",
       "    </tr>\n",
       "    <tr>\n",
       "      <th>5794</th>\n",
       "      <td>s5795</td>\n",
       "      <td>Movie</td>\n",
       "      <td>Louis C.K.: Hilarious</td>\n",
       "      <td>Louis C.K.</td>\n",
       "      <td>Louis C.K.</td>\n",
       "      <td>United States</td>\n",
       "      <td>2016-09-16</td>\n",
       "      <td>2010</td>\n",
       "      <td>84 min</td>\n",
       "      <td>NaN</td>\n",
       "      <td>Movies</td>\n",
       "      <td>Emmy-winning comedy writer Louis C.K. brings h...</td>\n",
       "    </tr>\n",
       "    <tr>\n",
       "      <th>5813</th>\n",
       "      <td>s5814</td>\n",
       "      <td>Movie</td>\n",
       "      <td>Louis C.K.: Live at the Comedy Store</td>\n",
       "      <td>Louis C.K.</td>\n",
       "      <td>Louis C.K.</td>\n",
       "      <td>United States</td>\n",
       "      <td>2016-08-15</td>\n",
       "      <td>2015</td>\n",
       "      <td>66 min</td>\n",
       "      <td>NaN</td>\n",
       "      <td>Movies</td>\n",
       "      <td>The comic puts his trademark hilarious/thought...</td>\n",
       "    </tr>\n",
       "  </tbody>\n",
       "</table>\n",
       "</div>"
      ],
      "text/plain": [
       "     show_id   tipo                                titulo     diretor  \\\n",
       "5541   s5542  Movie                       Louis C.K. 2017  Louis C.K.   \n",
       "5794   s5795  Movie                 Louis C.K.: Hilarious  Louis C.K.   \n",
       "5813   s5814  Movie  Louis C.K.: Live at the Comedy Store  Louis C.K.   \n",
       "\n",
       "          elenco           pais     dt_add  ano_lancamento classificacao  \\\n",
       "5541  Louis C.K.  United States 2017-04-04            2017        74 min   \n",
       "5794  Louis C.K.  United States 2016-09-16            2010        84 min   \n",
       "5813  Louis C.K.  United States 2016-08-15            2015        66 min   \n",
       "\n",
       "     duracao listed_in                                        description  \n",
       "5541     NaN    Movies  Louis C.K. muses on religion, eternal love, gi...  \n",
       "5794     NaN    Movies  Emmy-winning comedy writer Louis C.K. brings h...  \n",
       "5813     NaN    Movies  The comic puts his trademark hilarious/thought...  "
      ]
     },
     "execution_count": 23,
     "metadata": {},
     "output_type": "execute_result"
    }
   ],
   "source": [
    "df_movie_tratado.loc[df_movie_tratado[\"duracao\"].isnull()]"
   ]
  },
  {
   "cell_type": "code",
   "execution_count": 24,
   "id": "7f5dd7c6",
   "metadata": {},
   "outputs": [],
   "source": [
    "df_movie_tratado.loc[[5541,5794,5813],\"duracao\"] = [\"74 min\",\"84 min\",\"66 min\"]"
   ]
  },
  {
   "cell_type": "code",
   "execution_count": 25,
   "id": "f3fe4891",
   "metadata": {},
   "outputs": [
    {
     "data": {
      "text/html": [
       "<div>\n",
       "<style scoped>\n",
       "    .dataframe tbody tr th:only-of-type {\n",
       "        vertical-align: middle;\n",
       "    }\n",
       "\n",
       "    .dataframe tbody tr th {\n",
       "        vertical-align: top;\n",
       "    }\n",
       "\n",
       "    .dataframe thead th {\n",
       "        text-align: right;\n",
       "    }\n",
       "</style>\n",
       "<table border=\"1\" class=\"dataframe\">\n",
       "  <thead>\n",
       "    <tr style=\"text-align: right;\">\n",
       "      <th></th>\n",
       "      <th>show_id</th>\n",
       "      <th>tipo</th>\n",
       "      <th>titulo</th>\n",
       "      <th>diretor</th>\n",
       "      <th>elenco</th>\n",
       "      <th>pais</th>\n",
       "      <th>dt_add</th>\n",
       "      <th>ano_lancamento</th>\n",
       "      <th>classificacao</th>\n",
       "      <th>duracao</th>\n",
       "      <th>listed_in</th>\n",
       "      <th>description</th>\n",
       "    </tr>\n",
       "  </thead>\n",
       "  <tbody>\n",
       "    <tr>\n",
       "      <th>5541</th>\n",
       "      <td>s5542</td>\n",
       "      <td>Movie</td>\n",
       "      <td>Louis C.K. 2017</td>\n",
       "      <td>Louis C.K.</td>\n",
       "      <td>Louis C.K.</td>\n",
       "      <td>United States</td>\n",
       "      <td>2017-04-04</td>\n",
       "      <td>2017</td>\n",
       "      <td>74 min</td>\n",
       "      <td>74 min</td>\n",
       "      <td>Movies</td>\n",
       "      <td>Louis C.K. muses on religion, eternal love, gi...</td>\n",
       "    </tr>\n",
       "    <tr>\n",
       "      <th>5794</th>\n",
       "      <td>s5795</td>\n",
       "      <td>Movie</td>\n",
       "      <td>Louis C.K.: Hilarious</td>\n",
       "      <td>Louis C.K.</td>\n",
       "      <td>Louis C.K.</td>\n",
       "      <td>United States</td>\n",
       "      <td>2016-09-16</td>\n",
       "      <td>2010</td>\n",
       "      <td>84 min</td>\n",
       "      <td>84 min</td>\n",
       "      <td>Movies</td>\n",
       "      <td>Emmy-winning comedy writer Louis C.K. brings h...</td>\n",
       "    </tr>\n",
       "    <tr>\n",
       "      <th>5813</th>\n",
       "      <td>s5814</td>\n",
       "      <td>Movie</td>\n",
       "      <td>Louis C.K.: Live at the Comedy Store</td>\n",
       "      <td>Louis C.K.</td>\n",
       "      <td>Louis C.K.</td>\n",
       "      <td>United States</td>\n",
       "      <td>2016-08-15</td>\n",
       "      <td>2015</td>\n",
       "      <td>66 min</td>\n",
       "      <td>66 min</td>\n",
       "      <td>Movies</td>\n",
       "      <td>The comic puts his trademark hilarious/thought...</td>\n",
       "    </tr>\n",
       "  </tbody>\n",
       "</table>\n",
       "</div>"
      ],
      "text/plain": [
       "     show_id   tipo                                titulo     diretor  \\\n",
       "5541   s5542  Movie                       Louis C.K. 2017  Louis C.K.   \n",
       "5794   s5795  Movie                 Louis C.K.: Hilarious  Louis C.K.   \n",
       "5813   s5814  Movie  Louis C.K.: Live at the Comedy Store  Louis C.K.   \n",
       "\n",
       "          elenco           pais     dt_add  ano_lancamento classificacao  \\\n",
       "5541  Louis C.K.  United States 2017-04-04            2017        74 min   \n",
       "5794  Louis C.K.  United States 2016-09-16            2010        84 min   \n",
       "5813  Louis C.K.  United States 2016-08-15            2015        66 min   \n",
       "\n",
       "     duracao listed_in                                        description  \n",
       "5541  74 min    Movies  Louis C.K. muses on religion, eternal love, gi...  \n",
       "5794  84 min    Movies  Emmy-winning comedy writer Louis C.K. brings h...  \n",
       "5813  66 min    Movies  The comic puts his trademark hilarious/thought...  "
      ]
     },
     "execution_count": 25,
     "metadata": {},
     "output_type": "execute_result"
    }
   ],
   "source": [
    "df_movie_tratado.loc[[5541,5794,5813]]"
   ]
  },
  {
   "cell_type": "code",
   "execution_count": 26,
   "id": "d5f2f3d4",
   "metadata": {},
   "outputs": [],
   "source": [
    "df_movie_tratado.loc[[5541,5794,5813],\"classificacao\"] = np.nan"
   ]
  },
  {
   "cell_type": "code",
   "execution_count": 27,
   "id": "e378d408",
   "metadata": {},
   "outputs": [
    {
     "data": {
      "text/html": [
       "<div>\n",
       "<style scoped>\n",
       "    .dataframe tbody tr th:only-of-type {\n",
       "        vertical-align: middle;\n",
       "    }\n",
       "\n",
       "    .dataframe tbody tr th {\n",
       "        vertical-align: top;\n",
       "    }\n",
       "\n",
       "    .dataframe thead th {\n",
       "        text-align: right;\n",
       "    }\n",
       "</style>\n",
       "<table border=\"1\" class=\"dataframe\">\n",
       "  <thead>\n",
       "    <tr style=\"text-align: right;\">\n",
       "      <th></th>\n",
       "      <th>show_id</th>\n",
       "      <th>tipo</th>\n",
       "      <th>titulo</th>\n",
       "      <th>diretor</th>\n",
       "      <th>elenco</th>\n",
       "      <th>pais</th>\n",
       "      <th>dt_add</th>\n",
       "      <th>ano_lancamento</th>\n",
       "      <th>classificacao</th>\n",
       "      <th>duracao</th>\n",
       "      <th>listed_in</th>\n",
       "      <th>description</th>\n",
       "    </tr>\n",
       "  </thead>\n",
       "  <tbody>\n",
       "    <tr>\n",
       "      <th>5541</th>\n",
       "      <td>s5542</td>\n",
       "      <td>Movie</td>\n",
       "      <td>Louis C.K. 2017</td>\n",
       "      <td>Louis C.K.</td>\n",
       "      <td>Louis C.K.</td>\n",
       "      <td>United States</td>\n",
       "      <td>2017-04-04</td>\n",
       "      <td>2017</td>\n",
       "      <td>NaN</td>\n",
       "      <td>74 min</td>\n",
       "      <td>Movies</td>\n",
       "      <td>Louis C.K. muses on religion, eternal love, gi...</td>\n",
       "    </tr>\n",
       "    <tr>\n",
       "      <th>5794</th>\n",
       "      <td>s5795</td>\n",
       "      <td>Movie</td>\n",
       "      <td>Louis C.K.: Hilarious</td>\n",
       "      <td>Louis C.K.</td>\n",
       "      <td>Louis C.K.</td>\n",
       "      <td>United States</td>\n",
       "      <td>2016-09-16</td>\n",
       "      <td>2010</td>\n",
       "      <td>NaN</td>\n",
       "      <td>84 min</td>\n",
       "      <td>Movies</td>\n",
       "      <td>Emmy-winning comedy writer Louis C.K. brings h...</td>\n",
       "    </tr>\n",
       "    <tr>\n",
       "      <th>5813</th>\n",
       "      <td>s5814</td>\n",
       "      <td>Movie</td>\n",
       "      <td>Louis C.K.: Live at the Comedy Store</td>\n",
       "      <td>Louis C.K.</td>\n",
       "      <td>Louis C.K.</td>\n",
       "      <td>United States</td>\n",
       "      <td>2016-08-15</td>\n",
       "      <td>2015</td>\n",
       "      <td>NaN</td>\n",
       "      <td>66 min</td>\n",
       "      <td>Movies</td>\n",
       "      <td>The comic puts his trademark hilarious/thought...</td>\n",
       "    </tr>\n",
       "  </tbody>\n",
       "</table>\n",
       "</div>"
      ],
      "text/plain": [
       "     show_id   tipo                                titulo     diretor  \\\n",
       "5541   s5542  Movie                       Louis C.K. 2017  Louis C.K.   \n",
       "5794   s5795  Movie                 Louis C.K.: Hilarious  Louis C.K.   \n",
       "5813   s5814  Movie  Louis C.K.: Live at the Comedy Store  Louis C.K.   \n",
       "\n",
       "          elenco           pais     dt_add  ano_lancamento classificacao  \\\n",
       "5541  Louis C.K.  United States 2017-04-04            2017           NaN   \n",
       "5794  Louis C.K.  United States 2016-09-16            2010           NaN   \n",
       "5813  Louis C.K.  United States 2016-08-15            2015           NaN   \n",
       "\n",
       "     duracao listed_in                                        description  \n",
       "5541  74 min    Movies  Louis C.K. muses on religion, eternal love, gi...  \n",
       "5794  84 min    Movies  Emmy-winning comedy writer Louis C.K. brings h...  \n",
       "5813  66 min    Movies  The comic puts his trademark hilarious/thought...  "
      ]
     },
     "execution_count": 27,
     "metadata": {},
     "output_type": "execute_result"
    }
   ],
   "source": [
    "df_movie_tratado.loc[[5541,5794,5813]]"
   ]
  },
  {
   "cell_type": "code",
   "execution_count": 28,
   "id": "ca2b3230",
   "metadata": {},
   "outputs": [],
   "source": [
    "df_movie_tratado['duracao_min'] = df_movie_tratado['duracao'].str.replace(' min', '').astype(np.int64)"
   ]
  },
  {
   "cell_type": "code",
   "execution_count": 29,
   "id": "98fa5095",
   "metadata": {},
   "outputs": [
    {
     "data": {
      "text/html": [
       "<div>\n",
       "<style scoped>\n",
       "    .dataframe tbody tr th:only-of-type {\n",
       "        vertical-align: middle;\n",
       "    }\n",
       "\n",
       "    .dataframe tbody tr th {\n",
       "        vertical-align: top;\n",
       "    }\n",
       "\n",
       "    .dataframe thead th {\n",
       "        text-align: right;\n",
       "    }\n",
       "</style>\n",
       "<table border=\"1\" class=\"dataframe\">\n",
       "  <thead>\n",
       "    <tr style=\"text-align: right;\">\n",
       "      <th></th>\n",
       "      <th>show_id</th>\n",
       "      <th>tipo</th>\n",
       "      <th>titulo</th>\n",
       "      <th>diretor</th>\n",
       "      <th>elenco</th>\n",
       "      <th>pais</th>\n",
       "      <th>dt_add</th>\n",
       "      <th>ano_lancamento</th>\n",
       "      <th>classificacao</th>\n",
       "      <th>duracao</th>\n",
       "      <th>listed_in</th>\n",
       "      <th>description</th>\n",
       "      <th>duracao_min</th>\n",
       "    </tr>\n",
       "  </thead>\n",
       "  <tbody>\n",
       "    <tr>\n",
       "      <th>0</th>\n",
       "      <td>s1</td>\n",
       "      <td>Movie</td>\n",
       "      <td>Dick Johnson Is Dead</td>\n",
       "      <td>Kirsten Johnson</td>\n",
       "      <td>NaN</td>\n",
       "      <td>United States</td>\n",
       "      <td>2021-09-25</td>\n",
       "      <td>2020</td>\n",
       "      <td>PG-13</td>\n",
       "      <td>90 min</td>\n",
       "      <td>Documentaries</td>\n",
       "      <td>As her father nears the end of his life, filmm...</td>\n",
       "      <td>90</td>\n",
       "    </tr>\n",
       "    <tr>\n",
       "      <th>6</th>\n",
       "      <td>s7</td>\n",
       "      <td>Movie</td>\n",
       "      <td>My Little Pony: A New Generation</td>\n",
       "      <td>Robert Cullen, José Luis Ucha</td>\n",
       "      <td>Vanessa Hudgens, Kimiko Glenn, James Marsden, ...</td>\n",
       "      <td>NaN</td>\n",
       "      <td>2021-09-24</td>\n",
       "      <td>2021</td>\n",
       "      <td>PG</td>\n",
       "      <td>91 min</td>\n",
       "      <td>Children &amp; Family Movies</td>\n",
       "      <td>Equestria's divided. But a bright-eyed hero be...</td>\n",
       "      <td>91</td>\n",
       "    </tr>\n",
       "    <tr>\n",
       "      <th>7</th>\n",
       "      <td>s8</td>\n",
       "      <td>Movie</td>\n",
       "      <td>Sankofa</td>\n",
       "      <td>Haile Gerima</td>\n",
       "      <td>Kofi Ghanaba, Oyafunmike Ogunlano, Alexandra D...</td>\n",
       "      <td>United States, Ghana, Burkina Faso, United Kin...</td>\n",
       "      <td>2021-09-24</td>\n",
       "      <td>1993</td>\n",
       "      <td>TV-MA</td>\n",
       "      <td>125 min</td>\n",
       "      <td>Dramas, Independent Movies, International Movies</td>\n",
       "      <td>On a photo shoot in Ghana, an American model s...</td>\n",
       "      <td>125</td>\n",
       "    </tr>\n",
       "    <tr>\n",
       "      <th>9</th>\n",
       "      <td>s10</td>\n",
       "      <td>Movie</td>\n",
       "      <td>The Starling</td>\n",
       "      <td>Theodore Melfi</td>\n",
       "      <td>Melissa McCarthy, Chris O'Dowd, Kevin Kline, T...</td>\n",
       "      <td>United States</td>\n",
       "      <td>2021-09-24</td>\n",
       "      <td>2021</td>\n",
       "      <td>PG-13</td>\n",
       "      <td>104 min</td>\n",
       "      <td>Comedies, Dramas</td>\n",
       "      <td>A woman adjusting to life after a loss contend...</td>\n",
       "      <td>104</td>\n",
       "    </tr>\n",
       "    <tr>\n",
       "      <th>12</th>\n",
       "      <td>s13</td>\n",
       "      <td>Movie</td>\n",
       "      <td>Je Suis Karl</td>\n",
       "      <td>Christian Schwochow</td>\n",
       "      <td>Luna Wedler, Jannis Niewöhner, Milan Peschel, ...</td>\n",
       "      <td>Germany, Czech Republic</td>\n",
       "      <td>2021-09-23</td>\n",
       "      <td>2021</td>\n",
       "      <td>TV-MA</td>\n",
       "      <td>127 min</td>\n",
       "      <td>Dramas, International Movies</td>\n",
       "      <td>After most of her family is murdered in a terr...</td>\n",
       "      <td>127</td>\n",
       "    </tr>\n",
       "  </tbody>\n",
       "</table>\n",
       "</div>"
      ],
      "text/plain": [
       "   show_id   tipo                            titulo  \\\n",
       "0       s1  Movie              Dick Johnson Is Dead   \n",
       "6       s7  Movie  My Little Pony: A New Generation   \n",
       "7       s8  Movie                           Sankofa   \n",
       "9      s10  Movie                      The Starling   \n",
       "12     s13  Movie                      Je Suis Karl   \n",
       "\n",
       "                          diretor  \\\n",
       "0                 Kirsten Johnson   \n",
       "6   Robert Cullen, José Luis Ucha   \n",
       "7                    Haile Gerima   \n",
       "9                  Theodore Melfi   \n",
       "12            Christian Schwochow   \n",
       "\n",
       "                                               elenco  \\\n",
       "0                                                 NaN   \n",
       "6   Vanessa Hudgens, Kimiko Glenn, James Marsden, ...   \n",
       "7   Kofi Ghanaba, Oyafunmike Ogunlano, Alexandra D...   \n",
       "9   Melissa McCarthy, Chris O'Dowd, Kevin Kline, T...   \n",
       "12  Luna Wedler, Jannis Niewöhner, Milan Peschel, ...   \n",
       "\n",
       "                                                 pais     dt_add  \\\n",
       "0                                       United States 2021-09-25   \n",
       "6                                                 NaN 2021-09-24   \n",
       "7   United States, Ghana, Burkina Faso, United Kin... 2021-09-24   \n",
       "9                                       United States 2021-09-24   \n",
       "12                            Germany, Czech Republic 2021-09-23   \n",
       "\n",
       "    ano_lancamento classificacao  duracao  \\\n",
       "0             2020         PG-13   90 min   \n",
       "6             2021            PG   91 min   \n",
       "7             1993         TV-MA  125 min   \n",
       "9             2021         PG-13  104 min   \n",
       "12            2021         TV-MA  127 min   \n",
       "\n",
       "                                           listed_in  \\\n",
       "0                                      Documentaries   \n",
       "6                           Children & Family Movies   \n",
       "7   Dramas, Independent Movies, International Movies   \n",
       "9                                   Comedies, Dramas   \n",
       "12                      Dramas, International Movies   \n",
       "\n",
       "                                          description  duracao_min  \n",
       "0   As her father nears the end of his life, filmm...           90  \n",
       "6   Equestria's divided. But a bright-eyed hero be...           91  \n",
       "7   On a photo shoot in Ghana, an American model s...          125  \n",
       "9   A woman adjusting to life after a loss contend...          104  \n",
       "12  After most of her family is murdered in a terr...          127  "
      ]
     },
     "execution_count": 29,
     "metadata": {},
     "output_type": "execute_result"
    }
   ],
   "source": [
    "df_movie_tratado.head()"
   ]
  },
  {
   "cell_type": "code",
   "execution_count": 30,
   "id": "b0c5bd47",
   "metadata": {},
   "outputs": [
    {
     "data": {
      "text/plain": [
       "312"
      ]
     },
     "execution_count": 30,
     "metadata": {},
     "output_type": "execute_result"
    }
   ],
   "source": [
    "df_movie_tratado['duracao_min'].max()"
   ]
  },
  {
   "cell_type": "code",
   "execution_count": 32,
   "id": "03dd955f",
   "metadata": {},
   "outputs": [
    {
     "data": {
      "text/plain": [
       "4253    312\n",
       "717     273\n",
       "2491    253\n",
       "2487    237\n",
       "2484    233\n",
       "       ... \n",
       "3535     10\n",
       "1557      9\n",
       "1484      8\n",
       "2713      5\n",
       "3777      3\n",
       "Name: duracao_min, Length: 6131, dtype: int64"
      ]
     },
     "execution_count": 32,
     "metadata": {},
     "output_type": "execute_result"
    }
   ],
   "source": [
    "df_movie_tratado['duracao_min'].sort_values(ascending=False)"
   ]
  },
  {
   "cell_type": "code",
   "execution_count": 36,
   "id": "f9950d9f",
   "metadata": {},
   "outputs": [
    {
     "data": {
      "text/plain": [
       "show_id                                                       s2492\n",
       "tipo                                                          Movie\n",
       "titulo                                       The School of Mischief\n",
       "diretor                                      Houssam El-Din Mustafa\n",
       "elenco            Suhair El-Babili, Adel Emam, Saeed Saleh, Youn...\n",
       "pais                                                          Egypt\n",
       "dt_add                                          2020-05-21 00:00:00\n",
       "ano_lancamento                                                 1973\n",
       "classificacao                                                 TV-14\n",
       "duracao                                                     253 min\n",
       "listed_in                    Comedies, Dramas, International Movies\n",
       "description       A high school teacher volunteers to transform ...\n",
       "duracao_min                                                     253\n",
       "Name: 2491, dtype: object"
      ]
     },
     "execution_count": 36,
     "metadata": {},
     "output_type": "execute_result"
    }
   ],
   "source": [
    "df_movie_tratado.loc[2491]"
   ]
  },
  {
   "cell_type": "code",
   "execution_count": 39,
   "id": "35aba9a4",
   "metadata": {},
   "outputs": [
    {
     "data": {
      "text/plain": [
       "3777      3\n",
       "2713      5\n",
       "1484      8\n",
       "1557      9\n",
       "3535     10\n",
       "       ... \n",
       "2484    233\n",
       "2487    237\n",
       "2491    253\n",
       "717     273\n",
       "4253    312\n",
       "Name: duracao_min, Length: 6131, dtype: int64"
      ]
     },
     "execution_count": 39,
     "metadata": {},
     "output_type": "execute_result"
    }
   ],
   "source": [
    "df_movie_tratado['duracao_min'].sort_values()"
   ]
  },
  {
   "cell_type": "code",
   "execution_count": 40,
   "id": "5ec63f82",
   "metadata": {},
   "outputs": [
    {
     "data": {
      "text/plain": [
       "show_id                                                       s3778\n",
       "tipo                                                          Movie\n",
       "titulo                                                       Silent\n",
       "diretor                           Limbert Fabian, Brandon Oldenburg\n",
       "elenco                                                          NaN\n",
       "pais                                                  United States\n",
       "dt_add                                          2019-06-04 00:00:00\n",
       "ano_lancamento                                                 2014\n",
       "classificacao                                                  TV-Y\n",
       "duracao                                                       3 min\n",
       "listed_in                Children & Family Movies, Sci-Fi & Fantasy\n",
       "description       \"Silent\" is an animated short film created by ...\n",
       "duracao_min                                                       3\n",
       "Name: 3777, dtype: object"
      ]
     },
     "execution_count": 40,
     "metadata": {},
     "output_type": "execute_result"
    }
   ],
   "source": [
    "df_movie_tratado.loc[3777]"
   ]
  },
  {
   "cell_type": "markdown",
   "id": "1f20ddc7",
   "metadata": {},
   "source": [
    "## 8 - Qual o tempo médio de duração de um filme?\n",
    "O tempo médio de um filme é de **99** min!"
   ]
  },
  {
   "cell_type": "code",
   "execution_count": 55,
   "id": "84f1b044",
   "metadata": {},
   "outputs": [
    {
     "name": "stderr",
     "output_type": "stream",
     "text": [
      "c:\\Users\\Usuario\\anaconda3\\Lib\\site-packages\\seaborn\\categorical.py:1794: FutureWarning: use_inf_as_na option is deprecated and will be removed in a future version. Convert inf values to NaN before operating instead.\n",
      "  with pd.option_context('mode.use_inf_as_na', True):\n"
     ]
    },
    {
     "data": {
      "image/png": "[encoded data removed]",
      "text/plain": [
       "<Figure size 640x480 with 1 Axes>"
      ]
     },
     "metadata": {},
     "output_type": "display_data"
    }
   ],
   "source": [
    "sns.boxenplot(x=df_movie_tratado['duracao_min']);"
   ]
  },
  {
   "cell_type": "code",
   "execution_count": 54,
   "id": "98b43acd",
   "metadata": {},
   "outputs": [
    {
     "data": {
      "text/plain": [
       "2491    253\n",
       "2487    237\n",
       "2484    233\n",
       "2488    230\n",
       "166     229\n",
       "       ... \n",
       "3535     10\n",
       "1557      9\n",
       "1484      8\n",
       "2713      5\n",
       "3777      3\n",
       "Name: duracao_min, Length: 6131, dtype: int64"
      ]
     },
     "execution_count": 54,
     "metadata": {},
     "output_type": "execute_result"
    }
   ],
   "source": [
    "df_movie_tratado['duracao_min'].sort_values(ascending=False)"
   ]
  },
  {
   "cell_type": "code",
   "execution_count": 50,
   "id": "df60bcfc",
   "metadata": {},
   "outputs": [
    {
     "data": {
      "text/plain": [
       "90"
      ]
     },
     "execution_count": 50,
     "metadata": {},
     "output_type": "execute_result"
    }
   ],
   "source": [
    "df_movie_tratado.loc[4253, 'duracao_min']"
   ]
  },
  {
   "cell_type": "code",
   "execution_count": 53,
   "id": "9961b9ec",
   "metadata": {},
   "outputs": [
    {
     "data": {
      "text/plain": [
       "15"
      ]
     },
     "execution_count": 53,
     "metadata": {},
     "output_type": "execute_result"
    }
   ],
   "source": [
    "df_movie_tratado.loc[717, 'duracao_min']"
   ]
  },
  {
   "cell_type": "code",
   "execution_count": 57,
   "id": "31000eb6",
   "metadata": {},
   "outputs": [
    {
     "data": {
      "text/plain": [
       "count    6131.00\n",
       "mean       99.49\n",
       "std        28.09\n",
       "min         3.00\n",
       "25%        87.00\n",
       "50%        98.00\n",
       "75%       114.00\n",
       "max       253.00\n",
       "Name: duracao_min, dtype: float64"
      ]
     },
     "execution_count": 57,
     "metadata": {},
     "output_type": "execute_result"
    }
   ],
   "source": [
    "df_movie_tratado['duracao_min'].describe().round(2)"
   ]
  },
  {
   "cell_type": "code",
   "execution_count": 59,
   "id": "520e1994",
   "metadata": {},
   "outputs": [
    {
     "data": {
      "text/plain": [
       "99.49"
      ]
     },
     "execution_count": 59,
     "metadata": {},
     "output_type": "execute_result"
    }
   ],
   "source": [
    "round(df_movie_tratado['duracao_min'].mean(),2)"
   ]
  },
  {
   "cell_type": "markdown",
   "id": "ce009915",
   "metadata": {},
   "source": [
    "## 9 - Liste os 3 países que produzem a maior quantidade de Séries (TV Show).\n",
    "\n",
    "Resposta: Os 3 países que mais produzem séries de TV são: Estados Unidos, Reino Unido e Japão."
   ]
  },
  {
   "cell_type": "code",
   "execution_count": 68,
   "id": "c978bd13",
   "metadata": {},
   "outputs": [
    {
     "data": {
      "text/plain": [
       "pais\n",
       "United States                                    760\n",
       "United Kingdom                                   213\n",
       "Japan                                            169\n",
       "South Korea                                      158\n",
       "India                                             79\n",
       "                                                ... \n",
       "Belarus                                            1\n",
       "United Kingdom, Australia                          1\n",
       "France, Australia, Germany                         1\n",
       "Australia, New Zealand, United States              1\n",
       "United States, France, South Korea, Indonesia      1\n",
       "Name: count, Length: 196, dtype: int64"
      ]
     },
     "execution_count": 68,
     "metadata": {},
     "output_type": "execute_result"
    }
   ],
   "source": [
    "df_tratado.loc[df_tratado['tipo'] == 'TV Show','pais'].value_counts(dropna=True)"
   ]
  },
  {
   "cell_type": "markdown",
   "id": "2137e476",
   "metadata": {},
   "source": [
    "## 10 - Em qual ano  temos o maior número de séries e filmes brasileiros disponibilizados na Netflix?"
   ]
  },
  {
   "cell_type": "code",
   "execution_count": 73,
   "id": "5795e2a4",
   "metadata": {},
   "outputs": [],
   "source": [
    "df_brasil = df_tratado.loc[df_tratado[\"pais\"].notna() & df_tratado[\"pais\"].str.contains(\"Brazil\")].copy()"
   ]
  },
  {
   "cell_type": "code",
   "execution_count": 77,
   "id": "28e9c029",
   "metadata": {},
   "outputs": [
    {
     "data": {
      "text/plain": [
       "dt_add\n",
       "2020    27\n",
       "2019    22\n",
       "2018    19\n",
       "2017    16\n",
       "2021    11\n",
       "2016     2\n",
       "Name: count, dtype: int64"
      ]
     },
     "execution_count": 77,
     "metadata": {},
     "output_type": "execute_result"
    }
   ],
   "source": [
    "df_brasil['dt_add'].dt.year.value_counts()"
   ]
  },
  {
   "cell_type": "code",
   "execution_count": 101,
   "id": "ca9acde9",
   "metadata": {},
   "outputs": [
    {
     "data": {
      "text/plain": [
       "Text(0.5, 1.0, 'Lançamentos por Ano Brasil')"
      ]
     },
     "execution_count": 101,
     "metadata": {},
     "output_type": "execute_result"
    },
    {
     "data": {
      "image/png": "[encoded data removed]",
      "text/plain": [
       "<Figure size 640x480 with 1 Axes>"
      ]
     },
     "metadata": {},
     "output_type": "display_data"
    }
   ],
   "source": [
    "lancamentos_br = df_brasil['dt_add'].dt.year.value_counts().sort_index()\n",
    "\n",
    "anos_br = lancamentos_br.index.tolist()\n",
    "valores_br = lancamentos_br.values.tolist()\n",
    "\n",
    "plt.bar(anos_br, valores_br)\n",
    "\n",
    "for i, valor in enumerate(valores_br):\n",
    "    plt.text(anos_br[i], valor, str(valor), ha='center', va='bottom')\n",
    "\n",
    "\n",
    "plt.xlabel('Ano')\n",
    "plt.ylabel('Quantidade')\n",
    "plt.title('Lançamentos por Ano Brasil')\n",
    "\n",
    "plt.show()"
   ]
  },
  {
   "cell_type": "code",
   "execution_count": 95,
   "id": "ed145164",
   "metadata": {},
   "outputs": [
    {
     "data": {
      "text/plain": [
       "array([ 2, 16, 19, 22, 27, 11], dtype=int64)"
      ]
     },
     "execution_count": 95,
     "metadata": {},
     "output_type": "execute_result"
    }
   ],
   "source": [
    "lancamentos_br.values"
   ]
  },
  {
   "cell_type": "markdown",
   "id": "1649015b",
   "metadata": {},
   "source": [
    "## 11 - Qual(ais) o(s) diretor(es) brasileiro(s) com o maior número de títulos (filme/série)?\n",
    "\n",
    "Resposta: Os diretores brasileiros com maior número de títulos são: **Lucas Margutti** e **Diego Pignataro**."
   ]
  },
  {
   "cell_type": "code",
   "execution_count": 107,
   "id": "04239429",
   "metadata": {},
   "outputs": [
    {
     "data": {
      "text/plain": [
       "diretor\n",
       "Lucas Margutti                  3\n",
       "Diego Pignataro                 3\n",
       "Marcelo Galvão                  2\n",
       "Alexandre Avancini              2\n",
       "Bruno Garotti                   2\n",
       "                               ..\n",
       "Petra Costa, Lea Glob           1\n",
       "Wagner de Assis                 1\n",
       "Fernando Ayllón                 1\n",
       "Cavi Borges, Luciano Vidigal    1\n",
       "Tiffanie Hsu                    1\n",
       "Name: count, Length: 61, dtype: int64"
      ]
     },
     "execution_count": 107,
     "metadata": {},
     "output_type": "execute_result"
    }
   ],
   "source": [
    "df_brasil['diretor'].value_counts()"
   ]
  },
  {
   "cell_type": "markdown",
   "id": "398340e3",
   "metadata": {},
   "source": [
    "## 12 - Existem mais conteúdos para adultos ou para crianças e adolescentes?\n",
    "\n",
    "Resposta: Existem mais conteúdos para crianças e adolescentes. Total de 4.702 títulos."
   ]
  },
  {
   "cell_type": "markdown",
   "id": "c51eb79d",
   "metadata": {},
   "source": []
  },
  {
   "cell_type": "code",
   "execution_count": 110,
   "id": "249f20d5",
   "metadata": {},
   "outputs": [
    {
     "data": {
      "text/plain": [
       "array(['PG-13', 'TV-MA', 'PG', 'TV-14', 'TV-PG', 'TV-Y', 'TV-Y7', 'R',\n",
       "       'TV-G', 'G', 'NC-17', '74 min', '84 min', '66 min', 'NR', nan,\n",
       "       'TV-Y7-FV', 'UR'], dtype=object)"
      ]
     },
     "execution_count": 110,
     "metadata": {},
     "output_type": "execute_result"
    }
   ],
   "source": [
    "df_tratado['classificacao'].unique()"
   ]
  },
  {
   "cell_type": "code",
   "execution_count": 112,
   "id": "710ede66",
   "metadata": {},
   "outputs": [],
   "source": [
    "adultos = ['TV-MA', 'NR', 'R']\n",
    "crianca_adolescente = ['TV-14','TV-PG', 'PG-13', 'TV-Y7', 'TV-Y', 'PG' , 'TV-G', 'G' ]"
   ]
  },
  {
   "cell_type": "code",
   "execution_count": 116,
   "id": "62d8bb61",
   "metadata": {},
   "outputs": [
    {
     "data": {
      "text/plain": [
       "(4086, 12)"
      ]
     },
     "execution_count": 116,
     "metadata": {},
     "output_type": "execute_result"
    }
   ],
   "source": [
    "#adulto\n",
    "df_tratado.query('classificacao in @adultos').shape"
   ]
  },
  {
   "cell_type": "code",
   "execution_count": 117,
   "id": "dabeef61",
   "metadata": {},
   "outputs": [
    {
     "data": {
      "text/plain": [
       "(4702, 12)"
      ]
     },
     "execution_count": 117,
     "metadata": {},
     "output_type": "execute_result"
    }
   ],
   "source": [
    "#criança/adolescente\n",
    "df_tratado.query('classificacao in @crianca_adolescente').shape"
   ]
  }
 ],
 "metadata": {
  "kernelspec": {
   "display_name": "Python 3 (ipykernel)",
   "language": "python",
   "name": "python3"
  },
  "language_info": {
   "codemirror_mode": {
    "name": "ipython",
    "version": 3
   },
   "file_extension": ".py",
   "mimetype": "text/x-python",
   "name": "python",
   "nbconvert_exporter": "python",
   "pygments_lexer": "ipython3",
   "version": "3.11.7"
  }
 },
 "nbformat": 4,
 "nbformat_minor": 5
}
